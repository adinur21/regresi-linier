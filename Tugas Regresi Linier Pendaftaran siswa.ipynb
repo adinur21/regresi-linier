{
 "cells": [
  {
   "cell_type": "code",
   "execution_count": 3,
   "metadata": {},
   "outputs": [
    {
     "data": {
      "image/png": "[encoded data removed]",
      "text/plain": [
       "<Figure size 432x288 with 1 Axes>"
      ]
     },
     "metadata": {
      "needs_background": "light"
     },
     "output_type": "display_data"
    },
    {
     "name": "stdout",
     "output_type": "stream",
     "text": [
      "RMSE: 65.190\n"
     ]
    }
   ],
   "source": [
    "# Simple Linear\n",
    "from random import seed\n",
    "import matplotlib.pyplot as plt\n",
    "from random import randrange\n",
    "from csv import reader\n",
    "from math import sqrt\n",
    "\n",
    "#load csv\n",
    "def load_csv(filename):\n",
    "  dataset = list()\n",
    "  with open(filename, 'r') as file:\n",
    "    next(file)\n",
    "    csv_reader = reader(file)\n",
    "    for row in csv_reader :\n",
    "      if not row:\n",
    "        continue\n",
    "      dataset.append(row)\n",
    "  return dataset\n",
    "\n",
    "#convert string to float\n",
    "def str_column_to_float(dataset, column):\n",
    "  for row in dataset:\n",
    "    row[column] = float(row[column].strip())\n",
    "\n",
    "#evaluate\n",
    "def evaluate_algorithm(dataset, algorithm, split, *args):\n",
    "  train, test = train_test_split(dataset, split)\n",
    "  test_set = list()\n",
    "  for row in test:\n",
    "    row_copy = list(row)\n",
    "    row_copy[-1] = None\n",
    "    test_set.append(row_copy)\n",
    "  predicted = algorithm(train, test_set, *args)\n",
    "  actual = [row[-1] for row in test]\n",
    "\n",
    "  x_train = [row[0] for row in test]\n",
    "  y_train = [row[1] for row in test]\n",
    "  #y_predicted\n",
    "  plt.scatter(x_train, y_train, color = 'red')\n",
    "  plt.plot(x_train, predicted, color = 'blue')\n",
    "  plt.title('Jumlah Pendaftar di setiap angkatan')\n",
    "  plt.xlabel('Angkatan')\n",
    "  plt.ylabel('Jumlah Pendaftar')\n",
    "  plt.show()\n",
    "\n",
    "  rmse = rmse_matric(actual, predicted)\n",
    "  return rmse\n",
    "\n",
    "#Split a\n",
    "def train_test_split(dataset, split):\n",
    "  train = list()\n",
    "  train_size = split * len(dataset)\n",
    "  dataset_copy = list(dataset)\n",
    "  #print\n",
    "  while len(train) < train_size:\n",
    "    index = randrange(len(dataset_copy))\n",
    "    train.append(dataset_copy.pop(index))\n",
    "  return train,dataset_copy\n",
    "\n",
    "#simple linear\n",
    "def simple_linear_regression(train, test):\n",
    "  predictions = list()\n",
    "  b0, b1 = coefficients(train)\n",
    "  for row in test:\n",
    "    yhat = b0 + b1 * row[0]\n",
    "    predictions.append(yhat)\n",
    "  return predictions\n",
    "\n",
    "#calculate\n",
    "def coefficients(dataset):\n",
    "  x = [row[0] for row in dataset]\n",
    "  y = [row[1] for row in dataset]\n",
    "  x_mean, y_mean = mean(x), mean(y)\n",
    "  b1 = covariance(x, x_mean, y, y_mean) / variance(x, x_mean)\n",
    "  b0 = y_mean - b1 * x_mean\n",
    "  return [b0, b1]\n",
    "\n",
    "#calculate 1\n",
    "def mean(values):\n",
    "  return sum(values) / float(len(values))\n",
    "\n",
    "#calculate 2\n",
    "def covariance(x, mean_x, y, mean_y):\n",
    "  covar = 0.0\n",
    "  for i in range(len(x)):\n",
    "    covar += (x[i] - mean_x) * (y[i] - mean_y)\n",
    "  return covar\n",
    "\n",
    "#calculate 3\n",
    "def variance(values, mean):\n",
    "  return sum([(x-mean)**2 for x in values])\n",
    "\n",
    "#calculate 4\n",
    "def rmse_matric(actual, predicted):\n",
    "  sum_error = 0.0\n",
    "  for i in range(len(actual)):\n",
    "    prediction_error = predicted[i] - actual[i]\n",
    "    sum_error += (prediction_error ** 2)\n",
    "  mean_error = sum_error / float(len(actual))\n",
    "  return sqrt(mean_error)\n",
    "\n",
    "#load dan prepare\n",
    "filename = 'G:\\Kulian UIN\\Intelijen Bisnis - Gunawan Budi Prasetyo\\Tugas\\pendaftar.csv'\n",
    "dataset = load_csv(filename)\n",
    "\n",
    "for i in range(len(dataset[0])):\n",
    "  str_column_to_float(dataset, i)\n",
    "#print(dataset)\n",
    "\n",
    "split = 0.6\n",
    "rmse = evaluate_algorithm(dataset, simple_linear_regression, split)\n",
    "print('RMSE: %.3f' % (rmse))\n"
   ]
  },
  {
   "cell_type": "code",
   "execution_count": null,
   "metadata": {},
   "outputs": [],
   "source": []
  },
  {
   "cell_type": "code",
   "execution_count": null,
   "metadata": {},
   "outputs": [],
   "source": []
  }
 ],
 "metadata": {
  "kernelspec": {
   "display_name": "Python 3",
   "language": "python",
   "name": "python3"
  },
  "language_info": {
   "codemirror_mode": {
    "name": "ipython",
    "version": 3
   },
   "file_extension": ".py",
   "mimetype": "text/x-python",
   "name": "python",
   "nbconvert_exporter": "python",
   "pygments_lexer": "ipython3",
   "version": "3.7.3"
  }
 },
 "nbformat": 4,
 "nbformat_minor": 2
}
